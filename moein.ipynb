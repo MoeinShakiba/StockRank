{
 "cells": [
  {
   "cell_type": "code",
   "execution_count": 13,
   "metadata": {
    "id": "TS6Kb-0-FEUc"
   },
   "outputs": [],
   "source": [
    "import pandas as pd\n",
    "import numpy as np\n",
    "import pprint\n",
    "import os\n",
    "pp = pprint.PrettyPrinter(indent=4).pprint\n",
    "\n",
    "ex=pd.DataFrame(columns=['ticker', 'min', 'max', 'mean', 'mean_last_80', '3/16', '10/40', 'c/min', 'c/max', 'min/max'])"
   ]
  },
  {
   "cell_type": "code",
   "execution_count": 14,
   "metadata": {
    "id": "wbf2zZVsGc7x"
   },
   "outputs": [],
   "source": [
    "def calc(data_dir,scv_name):\n",
    "    global ex\n",
    "    df = pd.read_csv(f\"{data_dir}/{scv_name}\")\n",
    "    df = df.replace(0, np.nan)\n",
    "    df = df.dropna(how='any', axis=0)\n",
    "    df = df.tail(360)\n",
    "    df = df.reset_index()\n",
    "    \n",
    "    ROWS=df.shape[0]\n",
    "    if ROWS < 360 :\n",
    "        return\n",
    "\n",
    "    i_min=df['<LOW>'].idxmin()\n",
    "    i_max=df['<HIGH>'].idxmax()\n",
    "\n",
    "    max=df.iloc[i_max]\n",
    "    min=df.iloc[i_min]\n",
    "\n",
    "    data={ \n",
    "      'ticker':min['<TICKER>'],\n",
    "      'min':min['<LOW>'],\n",
    "      'max':max['<HIGH>'],\n",
    "      'mean':df['<OPENINT>'].mean(),\n",
    "      # 'median':df['<OPENINT>'].median(),\n",
    "      'mean_last_80':df.tail(80)['<OPENINT>'].mean(),\n",
    "      '3/16':df.tail(3)['<OPENINT>'].mean()/df.tail(16).head(13)['<OPENINT>'].mean(),\n",
    "      '10/40':df.tail(10)['<OPENINT>'].mean()/df.tail(40).head(30)['<OPENINT>'].mean(),\n",
    "        'c/min':df.at[df.shape[0]-1, '<CLOSE>']/min['<LOW>'],\n",
    "        'c/max':df.at[df.shape[0]-1, '<CLOSE>']/max['<HIGH>'],\n",
    "       'min/max':min['<LOW>']/ max['<HIGH>'],\n",
    "    }\n",
    "    ex =pd.concat([ex,pd.DataFrame(data=[data],columns=data.keys())])\n",
    "   "
   ]
  },
  {
   "cell_type": "code",
   "execution_count": 15,
   "metadata": {
    "colab": {
     "base_uri": "https://localhost:8080/"
    },
    "id": "MmsKjZU_ZYh5",
    "outputId": "7969a616-0758-438a-a936-53d94a2bed6b"
   },
   "outputs": [],
   "source": [
    "for _,_,files in os.walk('data'):\n",
    "    for f in files:\n",
    "        if \".csv\" in f:\n",
    "            calc('data/',f)\n",
    "    ex.to_csv(\"out.csv\")"
   ]
  },
  {
   "cell_type": "code",
   "execution_count": 16,
   "metadata": {},
   "outputs": [],
   "source": [
    "df = pd.read_csv(\"data/IRO1BPAR0009-a.csv\")"
   ]
  },
  {
   "cell_type": "code",
   "execution_count": 27,
   "metadata": {},
   "outputs": [],
   "source": [
    "def min(df):\n",
    "    i_min=df['<LOW>'].idxmin()\n",
    "    return {\n",
    "        \"i_min\":i_min,\n",
    "        \"min_v\":df.iloc[i_min]['<LOW>']\n",
    "    }\n"
   ]
  },
  {
   "cell_type": "code",
   "execution_count": 28,
   "metadata": {},
   "outputs": [
    {
     "data": {
      "text/plain": [
       "{'i_min': 286, 'min_v': 29.0}"
      ]
     },
     "execution_count": 28,
     "metadata": {},
     "output_type": "execute_result"
    }
   ],
   "source": [
    "min(df)"
   ]
  },
  {
   "cell_type": "code",
   "execution_count": null,
   "metadata": {},
   "outputs": [],
   "source": []
  }
 ],
 "metadata": {
  "colab": {
   "provenance": []
  },
  "kernelspec": {
   "display_name": "Python 3 (ipykernel)",
   "language": "python",
   "name": "python3"
  },
  "language_info": {
   "codemirror_mode": {
    "name": "ipython",
    "version": 3
   },
   "file_extension": ".py",
   "mimetype": "text/x-python",
   "name": "python",
   "nbconvert_exporter": "python",
   "pygments_lexer": "ipython3",
   "version": "3.10.7"
  }
 },
 "nbformat": 4,
 "nbformat_minor": 4
}
