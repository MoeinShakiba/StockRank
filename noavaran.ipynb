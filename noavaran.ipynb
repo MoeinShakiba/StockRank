{
 "cells": [
  {
   "cell_type": "code",
   "execution_count": 1,
   "metadata": {
    "id": "TS6Kb-0-FEUc"
   },
   "outputs": [],
   "source": [
    "import pandas as pd\n",
    "import numpy as np\n",
    "import pprint\n",
    "import math\n",
    "import os\n",
    "pp = pprint.PrettyPrinter(indent=4).pprint\n",
    "\n",
    "ex=pd.DataFrame(columns=['ticker','min_lhs' ,'min_rhs', 'max', 'mean', 'mean_last_80', '3/16', '10/40', 'c/min', 'c/max', 'max/min_lhs' ,'min_rhs/max'])"
   ]
  },
  {
   "cell_type": "code",
   "execution_count": 2,
   "metadata": {},
   "outputs": [],
   "source": [
    "def calc_max(df):\n",
    "    i_max=df['<HIGH>'].idxmax()\n",
    "    df=df.reset_index()\n",
    "    m=df['<HIGH>'].idxmax()\n",
    "    return {\n",
    "        \"i_max\":i_max,\n",
    "        \"max_v\":df.iloc[m]['<HIGH>']\n",
    "    }"
   ]
  },
  {
   "cell_type": "code",
   "execution_count": 3,
   "metadata": {},
   "outputs": [],
   "source": [
    "def calc_min(df):\n",
    "    i_min=df['<LOW>'].idxmin()\n",
    "    df=df.reset_index()\n",
    "    m=df['<LOW>'].idxmin()\n",
    "    return {\n",
    "        \"i_min\":i_min,\n",
    "        \"min_v\":df.iloc[m]['<LOW>']\n",
    "    }"
   ]
  },
  {
   "cell_type": "code",
   "execution_count": 4,
   "metadata": {
    "id": "wbf2zZVsGc7x"
   },
   "outputs": [],
   "source": [
    "def calc(data_dir,scv_name):\n",
    "    SLICE = 360\n",
    "    I_33=math.floor(.33*SLICE)\n",
    "    I_50=math.floor(.50*SLICE)\n",
    "\n",
    "    global ex\n",
    "    df = pd.read_csv(f\"{data_dir}/{scv_name}\")\n",
    "    df=pd.DataFrame(df,columns=['<COL1>','<LOW>','<HIGH>','<VAL>','<CLOSE>'])\n",
    "    df = df.replace(0, np.nan)\n",
    "    df = df.dropna(how='any', axis=0)\n",
    "    df = df.tail(SLICE)\n",
    "    df = df.reset_index()\n",
    "    \n",
    "    ROWS=df.shape[0]\n",
    "    if ROWS < SLICE :\n",
    "        return\n",
    "\n",
    "    i_min=df['<LOW>'].idxmin()\n",
    "    i_max=calc_max(df[I_33:-1])['i_max']\n",
    "    \n",
    "    min_rhs=calc_min(df[i_max:-1])\n",
    "\n",
    "    lhs_min_s = 0 if I_33 <= i_max <= I_33 else I_33\n",
    "    min_lhs=calc_min(df[lhs_min_s:i_max])\n",
    "\n",
    "    max=df.iloc[i_max]\n",
    "    min=df.iloc[i_min]\n",
    "\n",
    "    data={ \n",
    "      'ticker':min['<COL1>'],\n",
    "      'min_lhs':min_lhs['min_v'],\n",
    "      'min_rhs':min_rhs['min_v'],\n",
    "      'max':max['<HIGH>'],        \n",
    "      'mean':df.tail(240)['<VAL>'].mean(),\n",
    "      'mean_last_80':df.tail(80)['<VAL>'].mean(),\n",
    "      '3/16':df.tail(3)['<VAL>'].mean()/df.tail(16).head(13)['<VAL>'].mean(),\n",
    "      '10/40':df.tail(10)['<VAL>'].mean()/df.tail(40).head(30)['<VAL>'].mean(),\n",
    "        'c/min':df.at[df.shape[0]-1, '<CLOSE>']/min_rhs['min_v'],\n",
    "        'c/max':df.at[df.shape[0]-1, '<CLOSE>']/max['<HIGH>'],\n",
    "        'min_rhs/max':min_rhs['min_v']/max['<HIGH>'],\n",
    "        'max/min_lhs':max['<HIGH>']/min_lhs['min_v']\n",
    "    }\n",
    "    ex =pd.concat([ex,pd.DataFrame(data=[data],columns=data.keys())])\n",
    "   "
   ]
  },
  {
   "cell_type": "code",
   "execution_count": 5,
   "metadata": {
    "colab": {
     "base_uri": "https://localhost:8080/"
    },
    "id": "MmsKjZU_ZYh5",
    "outputId": "7969a616-0758-438a-a936-53d94a2bed6b"
   },
   "outputs": [],
   "source": [
    "for _,_,files in os.walk('data'):\n",
    "    for f in files:\n",
    "        if \".csv\" in f:\n",
    "            calc('data/',f)\n",
    "    ex.to_csv(\"out.csv\")"
   ]
  },
  {
   "cell_type": "code",
   "execution_count": null,
   "metadata": {},
   "outputs": [],
   "source": []
  }
 ],
 "metadata": {
  "colab": {
   "provenance": []
  },
  "kernelspec": {
   "display_name": "Python 3 (ipykernel)",
   "language": "python",
   "name": "python3"
  },
  "language_info": {
   "codemirror_mode": {
    "name": "ipython",
    "version": 3
   },
   "file_extension": ".py",
   "mimetype": "text/x-python",
   "name": "python",
   "nbconvert_exporter": "python",
   "pygments_lexer": "ipython3",
   "version": "3.10.9"
  }
 },
 "nbformat": 4,
 "nbformat_minor": 4
}
